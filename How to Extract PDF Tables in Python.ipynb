{
 "cells": [
  {
   "cell_type": "markdown",
   "metadata": {},
   "source": [
    "# How to Extract PDF Tables in Python\n",
    "\n",
    "In this tutorial, you will learn how you can extract tables in PDF using camelot library in Python. Camelot is a Python library and a command-line tool that makes it easy for anyone to extract data tables trapped inside PDF files.\n",
    "\n",
    "###  Installation of Camelot\n",
    "This part of the documentation covers the steps to install Camelot.\n",
    "\n",
    "#### Using conda\n",
    "The easiest way to install Camelot is to install it with conda, which is a package manager and environment management system for the Anaconda distribution.\n",
    "\n",
    "`$ conda install -c conda-forge camelot-py`\n",
    "\n",
    "\n",
    "#### Using pip\n",
    "After installing the dependencies, which include Tkinter and ghostscript, you can simply use pip to install Camelot:\n",
    "\n",
    "`$ pip install camelot-py[cv]`\n",
    "\n",
    "\n",
    "For more information, check the [official documentation](https://camelot-py.readthedocs.io/en/master/user/install.html#install) \n",
    "\n",
    "The PDF used in this tutorial can be downloaded from [here](https://github.com/makozi/-Extracting-PDF-Tables-in-Python/files/3870463/foo.pdf)\n"
   ]
  },
  {
   "cell_type": "code",
   "execution_count": 2,
   "metadata": {},
   "outputs": [],
   "source": [
    "import camelot"
   ]
  },
  {
   "cell_type": "code",
   "execution_count": 7,
   "metadata": {},
   "outputs": [],
   "source": [
    "file = \"foo.pdf\""
   ]
  },
  {
   "cell_type": "code",
   "execution_count": 8,
   "metadata": {},
   "outputs": [],
   "source": [
    "tables= camelot.read_pdf(file)"
   ]
  },
  {
   "cell_type": "code",
   "execution_count": 9,
   "metadata": {},
   "outputs": [
    {
     "name": "stdout",
     "output_type": "stream",
     "text": [
      "Total tables extracted: 1\n"
     ]
    }
   ],
   "source": [
    "print(\"Total tables extracted:\", tables.n)"
   ]
  },
  {
   "cell_type": "code",
   "execution_count": 10,
   "metadata": {
    "scrolled": true
   },
   "outputs": [
    {
     "name": "stdout",
     "output_type": "stream",
     "text": [
      "              0            1                2                     3  \\\n",
      "0  Cycle \\nName  KI \\n(1/km)  Distance \\n(mi)  Percent Fuel Savings   \n",
      "1                                                  Improved \\nSpeed   \n",
      "2        2012_2         3.30              1.3                  5.9%   \n",
      "3        2145_1         0.68             11.2                  2.4%   \n",
      "4        4234_1         0.59             58.7                  8.5%   \n",
      "5        2032_2         0.17             57.8                 21.7%   \n",
      "6        4171_1         0.07            173.9                 58.1%   \n",
      "\n",
      "                   4                  5                 6  \n",
      "0                                                          \n",
      "1  Decreased \\nAccel  Eliminate \\nStops  Decreased \\nIdle  \n",
      "2               9.5%              29.2%             17.4%  \n",
      "3               0.1%               9.5%              2.7%  \n",
      "4               1.3%               8.5%              3.3%  \n",
      "5               0.3%               2.7%              1.2%  \n",
      "6               1.6%               2.1%              0.5%  \n"
     ]
    }
   ],
   "source": [
    "# export individually\n",
    "print(tables[0].df)"
   ]
  },
  {
   "cell_type": "code",
   "execution_count": 11,
   "metadata": {},
   "outputs": [],
   "source": [
    "tables[0].to_csv(\"foo.csv\")"
   ]
  },
  {
   "cell_type": "code",
   "execution_count": 12,
   "metadata": {},
   "outputs": [],
   "source": [
    "# or export all in a zip\n",
    "tables.export(\"doo.csv\", f=\"csv\", compress=True)"
   ]
  }
 ],
 "metadata": {
  "kernelspec": {
   "display_name": "Python 3",
   "language": "python",
   "name": "python3"
  },
  "language_info": {
   "codemirror_mode": {
    "name": "ipython",
    "version": 3
   },
   "file_extension": ".py",
   "mimetype": "text/x-python",
   "name": "python",
   "nbconvert_exporter": "python",
   "pygments_lexer": "ipython3",
   "version": "3.7.3"
  }
 },
 "nbformat": 4,
 "nbformat_minor": 2
}
